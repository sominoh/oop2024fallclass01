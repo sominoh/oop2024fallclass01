{
 "cells": [
  {
   "cell_type": "markdown",
   "id": "49b2bb3f-8a94-4aba-bf67-6b97d86c0047",
   "metadata": {},
   "source": [
    "# OOP (2024 Fall) HW1: 불변 순서쌍을 활용해 가변 순서쌍 만들기 \n",
    "- 이름: 오소민\n",
    "- 학번: 20232397\n",
    "\n"
   ]
  },
  {
   "cell_type": "markdown",
   "id": "9c3c24aa-19ac-4c88-a228-0d1686034a24",
   "metadata": {},
   "source": [
    "-----\n",
    "## Part A: 불변 순서쌍 Pair\n",
    "1. 클래스(또는 정적) 팩토리 메소드 `of`를 를 수정하여 완성하라.\n",
    "    - https://velog.io/@cjh8746/%EC%A0%95%EC%A0%81-%ED%8C%A9%ED%86%A0%EB%A6%AC-%EB%A9%94%EC%84%9C%EB%93%9CStatic-Factory-Method\n",
    "1. 주석 부분을 풀어 제너릭 클래스인 `Pair`가 제너릭 인터페이스 `Comparable`를 구현하도록 완성하라.\n",
    "    - https://docs.oracle.com/en/java/javase/22/docs/api/java.base/java/lang/Comparable.html"
   ]
  },
  {
   "cell_type": "code",
   "execution_count": 1,
   "id": "f2b4bcb7-9d9c-494a-9762-ca0700c6f762",
   "metadata": {},
   "outputs": [],
   "source": [
    "public record Pair<F extends Comparable<F>, S extends Comparable<S>>(F first, S second) implements Comparable<Pair<F, S>> {\n",
    "\n",
    "    // 제너릭 메소드로 팩토리 메소드 of 정의\n",
    "    public static <F extends Comparable<F>, S extends Comparable<S>> Pair<F, S> of(F first, S second) {\n",
    "        return new Pair<>(first, second);\n",
    "    }\n",
    "\n",
    "    // compareTo 메소드 구현: 사전순으로 비교\n",
    "    @Override\n",
    "    public int compareTo(Pair<F, S> other) {\n",
    "        // first 비교\n",
    "        int firstComparison = this.first.compareTo(other.first());\n",
    "        if (firstComparison != 0) {\n",
    "            return firstComparison;\n",
    "        }\n",
    "        // first가 같으면 second 비교\n",
    "        return this.second.compareTo(other.second());\n",
    "    }\n",
    "}"
   ]
  },
  {
   "cell_type": "code",
   "execution_count": 2,
   "id": "5fb5b2ac-4ac0-40cc-9f87-1675177e4baa",
   "metadata": {},
   "outputs": [
    {
     "name": "stdout",
     "output_type": "stream",
     "text": [
      "1\n",
      "-1\n",
      "-1\n",
      "1\n",
      "0\n"
     ]
    }
   ],
   "source": [
    "System.out.println(Pair.of(3, \"apple\").compareTo(Pair.of(2, \"banana\")));  \n",
    "System.out.println(Pair.of(1, \"apple\").compareTo(Pair.of(2, \"banana\")));  \n",
    "System.out.println(Pair.of(2, \"apple\").compareTo(Pair.of(2, \"banana\")));  \n",
    "System.out.println(Pair.of(2, \"cherry\").compareTo(Pair.of(2, \"banana\"))); \n",
    "System.out.println(Pair.of(2, \"banana\").compareTo(Pair.of(2, \"banana\"))); "
   ]
  },
  {
   "cell_type": "markdown",
   "id": "e2774a64-250e-4e89-a536-5a8ed42bb4ce",
   "metadata": {},
   "source": [
    "------\n",
    "## Part B: 가변 순서쌍 ModifiablePair\n",
    "\n",
    "불변 순서쌍만을 priviate 필드로 갖고 있는 가변 순서쌍 제너릭 클래스를 작성하라\n",
    "\n",
    "가변 순서쌍은 불변 순서쌍과 마찬가지 이름의 getter 메소드가 있고 추가로 setter 메소드도 있다.\n",
    "\n",
    "또, 가변 순서쌍도 불변 순서쌍과 마찬가지로 Comparable 제너릭 인터페이스를 구현하라.\n"
   ]
  },
  {
   "cell_type": "code",
   "execution_count": 3,
   "id": "38eb649f-d95e-40d8-a33b-658df4ee4a7f",
   "metadata": {},
   "outputs": [],
   "source": [
    "class ModifiablePair<F extends Comparable<F>, S extends Comparable<S>> implements Comparable<ModifiablePair<F, S>> {\n",
    "    private Pair<F, S> pair; // 불변 순서쌍\n",
    "\n",
    "    // 생성자\n",
    "    ModifiablePair(F first, S second) {\n",
    "        this.pair = new Pair<>(first, second);\n",
    "    }\n",
    "\n",
    "    // getter들은 pair에게 위임\n",
    "    public F first() {\n",
    "        return pair.first();\n",
    "    }\n",
    "\n",
    "    public S second() {\n",
    "        return pair.second();\n",
    "    }\n",
    "\n",
    "    // setter들은 새로운 값으로 새로운 Pair를 생성하여 할당\n",
    "    public void setFirst(F first) {\n",
    "        this.pair = new Pair<>(first, this.pair.second());\n",
    "    }\n",
    "\n",
    "    public void setSecond(S second) {\n",
    "        this.pair = new Pair<>(this.pair.first(), second);\n",
    "    }\n",
    "\n",
    "    // compareTo는 pair에게 위임\n",
    "    @Override\n",
    "    public int compareTo(ModifiablePair<F, S> other) {\n",
    "        return this.pair.compareTo(other.pair);\n",
    "    }\n",
    "\n",
    "    // toString은 pair에게 위임\n",
    "    @Override\n",
    "    public String toString() {\n",
    "        return pair.toString();\n",
    "    }\n",
    "}"
   ]
  },
  {
   "cell_type": "code",
   "execution_count": 8,
   "id": "73a60a80-cf2b-4a7a-9fc1-ebf5371caacf",
   "metadata": {},
   "outputs": [
    {
     "name": "stdout",
     "output_type": "stream",
     "text": [
      "초기 값:\n",
      "first: 1\n",
      "second: apple\n",
      "수정된 값:\n",
      "first: 2\n",
      "second: banana\n",
      "최종 수정된 값:\n",
      "first: 3\n",
      "second: cherry\n",
      "toString: Pair[first=3, second=cherry]\n"
     ]
    }
   ],
   "source": [
    "// ModifiablePair 객체 생성\n",
    "ModifiablePair<Integer, String> modifiablePair = new ModifiablePair<>(1, \"apple\");\n",
    "\n",
    "// 초기 값 확인\n",
    "System.out.println(\"초기 값:\");\n",
    "System.out.println(\"first: \" + modifiablePair.first());   // 출력: 1\n",
    "System.out.println(\"second: \" + modifiablePair.second()); // 출력: \"apple\"\n",
    "\n",
    "// 값 수정\n",
    "modifiablePair.setFirst(2);\n",
    "modifiablePair.setSecond(\"banana\");\n",
    "\n",
    "// 1수정된 값 확인\n",
    "System.out.println(\"수정된 값:\");\n",
    "System.out.println(\"first: \" + modifiablePair.first());   // 출력: 2\n",
    "System.out.println(\"second: \" + modifiablePair.second()); // 출력: \"banana\"\n",
    "\n",
    "// 새로운 값으로 수정\n",
    "modifiablePair.setFirst(3);\n",
    "modifiablePair.setSecond(\"cherry\");\n",
    "\n",
    "// 2수정된 값 확인\n",
    "System.out.println(\"최종 수정된 값:\");\n",
    "System.out.println(\"first: \" + modifiablePair.first());   // 출력: 3\n",
    "System.out.println(\"second: \" + modifiablePair.second()); // 출력: \"cherry\"\n",
    "\n",
    "// toString 확인\n",
    "System.out.println(\"toString: \" + modifiablePair); // 출력: Pair의 toString 결과"
   ]
  },
  {
   "cell_type": "code",
   "execution_count": 7,
   "id": "e0b9e66e-d3fa-4485-b6f6-4075eca8fcf3",
   "metadata": {},
   "outputs": [
    {
     "name": "stdout",
     "output_type": "stream",
     "text": [
      "1\n",
      "-1\n",
      "-1\n",
      "0\n"
     ]
    }
   ],
   "source": [
    "ModifiablePair<Integer, String> pair1 = new ModifiablePair<>(3, \"apple\");   \n",
    "ModifiablePair<Integer, String> pair2 = new ModifiablePair<>(2, \"banana\");  \n",
    "ModifiablePair<Integer, String> pair3 = new ModifiablePair<>(3, \"banana\");  \n",
    "ModifiablePair<Integer, String> pair4 = new ModifiablePair<>(3, \"apple\");   \n",
    "\n",
    "System.out.println(pair1.compareTo(pair2)); \n",
    "System.out.println(pair2.compareTo(pair1)); \n",
    "System.out.println(pair1.compareTo(pair3)); \n",
    "System.out.println(pair1.compareTo(pair4)); "
   ]
  }
 ],
 "metadata": {
  "kernelspec": {
   "display_name": "Java (rjk 2.1.0)",
   "language": "java",
   "name": "rapaio-jupyter-kernel"
  },
  "language_info": {
   "codemirror_mode": "java",
   "file_extension": ".jshell",
   "mimetype": "text/x-java-source",
   "name": "java",
   "nbconvert_exporter": "script",
   "pygments_lexer": "java",
   "version": "22.0.2+9"
  }
 },
 "nbformat": 4,
 "nbformat_minor": 5
}
