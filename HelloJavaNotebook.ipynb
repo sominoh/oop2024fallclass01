{
  "cells": [
    {
      "cell_type": "markdown",
      "metadata": {},
      "source": [
        "# Hello Java Notebook\n",
        "- **이름**: 오소민\n",
        "- **학번**: 20232397\n",
        "- **Github Profile**: https://github.com/sominoh\n"
      ]
    },
    {
      "cell_type": "code",
      "execution_count": null,
      "metadata": {
        "editable": true,
        "slideshow": {
          "slide_type": ""
        },
        "tags": []
      },
      "outputs": [],
      "source": []
    },
    {
      "cell_type": "code",
      "execution_count": null,
      "metadata": {},
      "outputs": [],
      "source": []
    },
    {
      "cell_type": "code",
      "execution_count": null,
      "metadata": {},
      "outputs": [],
      "source": []
    }
  ],
  "metadata": {
    "kernelspec": {
      "display_name": "Java (rjk 2.1.0)",
      "language": "java",
      "name": "rapaio-jupyter-kernel"
    },
    "language_info": {
      "codemirror_mode": "java",
      "file_extension": ".jshell",
      "mimetype": "text/x-java-source",
      "name": "java",
      "nbconvert_exporter": "script",
      "pygments_lexer": "java",
      "version": "22.0.2+9"
    }
  },
  "nbformat": 4,
  "nbformat_minor": 4
}
